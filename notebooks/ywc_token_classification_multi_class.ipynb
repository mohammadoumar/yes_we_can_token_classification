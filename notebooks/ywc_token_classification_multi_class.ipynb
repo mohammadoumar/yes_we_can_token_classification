{
 "cells": [
  {
   "cell_type": "code",
   "execution_count": 1,
   "id": "0bf8347c",
   "metadata": {
    "scrolled": true
   },
   "outputs": [
    {
     "name": "stdout",
     "output_type": "stream",
     "text": [
      "Looking in indexes: https://pypi.org/simple, https://pypi.ngc.nvidia.com\n",
      "Requirement already satisfied: transformers in /opt/conda/lib/python3.8/site-packages (4.12.5)\n",
      "Requirement already satisfied: huggingface-hub<1.0,>=0.1.0 in /opt/conda/lib/python3.8/site-packages (from transformers) (0.8.1)\n",
      "Requirement already satisfied: pyyaml>=5.1 in /opt/conda/lib/python3.8/site-packages (from transformers) (5.4.1)\n",
      "Requirement already satisfied: tqdm>=4.27 in /opt/conda/lib/python3.8/site-packages (from transformers) (4.62.3)\n",
      "Requirement already satisfied: regex!=2019.12.17 in /opt/conda/lib/python3.8/site-packages (from transformers) (2021.10.8)\n",
      "Requirement already satisfied: tokenizers<0.11,>=0.10.1 in /opt/conda/lib/python3.8/site-packages (from transformers) (0.10.3)\n",
      "Requirement already satisfied: packaging>=20.0 in /opt/conda/lib/python3.8/site-packages (from transformers) (21.0)\n",
      "Requirement already satisfied: filelock in /opt/conda/lib/python3.8/site-packages (from transformers) (3.3.0)\n",
      "Requirement already satisfied: sacremoses in /opt/conda/lib/python3.8/site-packages (from transformers) (0.0.46)\n",
      "Requirement already satisfied: requests in /opt/conda/lib/python3.8/site-packages (from transformers) (2.26.0)\n",
      "Requirement already satisfied: numpy>=1.17 in /opt/conda/lib/python3.8/site-packages (from transformers) (1.21.2)\n",
      "Requirement already satisfied: typing-extensions>=3.7.4.3 in /opt/conda/lib/python3.8/site-packages (from huggingface-hub<1.0,>=0.1.0->transformers) (3.10.0.2)\n",
      "Requirement already satisfied: pyparsing>=2.0.2 in /opt/conda/lib/python3.8/site-packages (from packaging>=20.0->transformers) (2.4.7)\n",
      "Requirement already satisfied: urllib3<1.27,>=1.21.1 in /opt/conda/lib/python3.8/site-packages (from requests->transformers) (1.26.7)\n",
      "Requirement already satisfied: charset-normalizer~=2.0.0 in /opt/conda/lib/python3.8/site-packages (from requests->transformers) (2.0.0)\n",
      "Requirement already satisfied: certifi>=2017.4.17 in /opt/conda/lib/python3.8/site-packages (from requests->transformers) (2021.5.30)\n",
      "Requirement already satisfied: idna<4,>=2.5 in /opt/conda/lib/python3.8/site-packages (from requests->transformers) (3.1)\n",
      "Requirement already satisfied: joblib in /opt/conda/lib/python3.8/site-packages (from sacremoses->transformers) (1.1.0)\n",
      "Requirement already satisfied: six in /opt/conda/lib/python3.8/site-packages (from sacremoses->transformers) (1.16.0)\n",
      "Requirement already satisfied: click in /opt/conda/lib/python3.8/site-packages (from sacremoses->transformers) (8.0.1)\n",
      "\u001b[33mWARNING: Running pip as the 'root' user can result in broken permissions and conflicting behaviour with the system package manager. It is recommended to use a virtual environment instead: https://pip.pypa.io/warnings/venv\u001b[0m\n",
      "Looking in indexes: https://pypi.org/simple, https://pypi.ngc.nvidia.com\n",
      "Requirement already satisfied: datasets in /opt/conda/lib/python3.8/site-packages (1.15.1)\n",
      "Requirement already satisfied: xxhash in /opt/conda/lib/python3.8/site-packages (from datasets) (3.0.0)\n",
      "Requirement already satisfied: tqdm>=4.62.1 in /opt/conda/lib/python3.8/site-packages (from datasets) (4.62.3)\n",
      "Requirement already satisfied: packaging in /opt/conda/lib/python3.8/site-packages (from datasets) (21.0)\n",
      "Requirement already satisfied: aiohttp in /opt/conda/lib/python3.8/site-packages (from datasets) (3.8.1)\n",
      "Requirement already satisfied: dill in /opt/conda/lib/python3.8/site-packages (from datasets) (0.3.5.1)\n",
      "Requirement already satisfied: pandas in /opt/conda/lib/python3.8/site-packages (from datasets) (1.3.4)\n",
      "Requirement already satisfied: multiprocess in /opt/conda/lib/python3.8/site-packages (from datasets) (0.70.13)\n",
      "Requirement already satisfied: numpy>=1.17 in /opt/conda/lib/python3.8/site-packages (from datasets) (1.21.2)\n",
      "Requirement already satisfied: requests>=2.19.0 in /opt/conda/lib/python3.8/site-packages (from datasets) (2.26.0)\n",
      "Requirement already satisfied: huggingface-hub<1.0.0,>=0.1.0 in /opt/conda/lib/python3.8/site-packages (from datasets) (0.8.1)\n",
      "Requirement already satisfied: fsspec[http]>=2021.05.0 in /opt/conda/lib/python3.8/site-packages (from datasets) (2022.5.0)\n",
      "Requirement already satisfied: pyarrow!=4.0.0,>=1.0.0 in /opt/conda/lib/python3.8/site-packages (from datasets) (8.0.0)\n",
      "Requirement already satisfied: filelock in /opt/conda/lib/python3.8/site-packages (from huggingface-hub<1.0.0,>=0.1.0->datasets) (3.3.0)\n",
      "Requirement already satisfied: pyyaml>=5.1 in /opt/conda/lib/python3.8/site-packages (from huggingface-hub<1.0.0,>=0.1.0->datasets) (5.4.1)\n",
      "Requirement already satisfied: typing-extensions>=3.7.4.3 in /opt/conda/lib/python3.8/site-packages (from huggingface-hub<1.0.0,>=0.1.0->datasets) (3.10.0.2)\n",
      "Requirement already satisfied: pyparsing>=2.0.2 in /opt/conda/lib/python3.8/site-packages (from packaging->datasets) (2.4.7)\n",
      "Requirement already satisfied: idna<4,>=2.5 in /opt/conda/lib/python3.8/site-packages (from requests>=2.19.0->datasets) (3.1)\n",
      "Requirement already satisfied: charset-normalizer~=2.0.0 in /opt/conda/lib/python3.8/site-packages (from requests>=2.19.0->datasets) (2.0.0)\n",
      "Requirement already satisfied: certifi>=2017.4.17 in /opt/conda/lib/python3.8/site-packages (from requests>=2.19.0->datasets) (2021.5.30)\n",
      "Requirement already satisfied: urllib3<1.27,>=1.21.1 in /opt/conda/lib/python3.8/site-packages (from requests>=2.19.0->datasets) (1.26.7)\n",
      "Requirement already satisfied: multidict<7.0,>=4.5 in /opt/conda/lib/python3.8/site-packages (from aiohttp->datasets) (6.0.2)\n",
      "Requirement already satisfied: aiosignal>=1.1.2 in /opt/conda/lib/python3.8/site-packages (from aiohttp->datasets) (1.2.0)\n",
      "Requirement already satisfied: frozenlist>=1.1.1 in /opt/conda/lib/python3.8/site-packages (from aiohttp->datasets) (1.3.0)\n",
      "Requirement already satisfied: attrs>=17.3.0 in /opt/conda/lib/python3.8/site-packages (from aiohttp->datasets) (21.2.0)\n",
      "Requirement already satisfied: yarl<2.0,>=1.0 in /opt/conda/lib/python3.8/site-packages (from aiohttp->datasets) (1.7.2)\n",
      "Requirement already satisfied: async-timeout<5.0,>=4.0.0a3 in /opt/conda/lib/python3.8/site-packages (from aiohttp->datasets) (4.0.2)\n",
      "Requirement already satisfied: pytz>=2017.3 in /opt/conda/lib/python3.8/site-packages (from pandas->datasets) (2021.3)\n",
      "Requirement already satisfied: python-dateutil>=2.7.3 in /opt/conda/lib/python3.8/site-packages (from pandas->datasets) (2.8.2)\n",
      "Requirement already satisfied: six>=1.5 in /opt/conda/lib/python3.8/site-packages (from python-dateutil>=2.7.3->pandas->datasets) (1.16.0)\n",
      "\u001b[33mWARNING: Running pip as the 'root' user can result in broken permissions and conflicting behaviour with the system package manager. It is recommended to use a virtual environment instead: https://pip.pypa.io/warnings/venv\u001b[0m\n",
      "Looking in indexes: https://pypi.org/simple, https://pypi.ngc.nvidia.com\n",
      "Requirement already satisfied: seqeval in /opt/conda/lib/python3.8/site-packages (1.2.2)\n",
      "Requirement already satisfied: numpy>=1.14.0 in /opt/conda/lib/python3.8/site-packages (from seqeval) (1.21.2)\n",
      "Requirement already satisfied: scikit-learn>=0.21.3 in /opt/conda/lib/python3.8/site-packages (from seqeval) (1.0)\n",
      "Requirement already satisfied: threadpoolctl>=2.0.0 in /opt/conda/lib/python3.8/site-packages (from scikit-learn>=0.21.3->seqeval) (3.0.0)\n",
      "Requirement already satisfied: scipy>=1.1.0 in /opt/conda/lib/python3.8/site-packages (from scikit-learn>=0.21.3->seqeval) (1.6.3)\n",
      "Requirement already satisfied: joblib>=0.11 in /opt/conda/lib/python3.8/site-packages (from scikit-learn>=0.21.3->seqeval) (1.1.0)\n",
      "\u001b[33mWARNING: Running pip as the 'root' user can result in broken permissions and conflicting behaviour with the system package manager. It is recommended to use a virtual environment instead: https://pip.pypa.io/warnings/venv\u001b[0m\n",
      "Looking in indexes: https://pypi.org/simple, https://pypi.ngc.nvidia.com\n",
      "Requirement already satisfied: ipywidgets in /opt/conda/lib/python3.8/site-packages (7.7.1)\n",
      "Requirement already satisfied: ipython>=4.0.0 in /opt/conda/lib/python3.8/site-packages (from ipywidgets) (7.28.0)\n",
      "Requirement already satisfied: ipykernel>=4.5.1 in /opt/conda/lib/python3.8/site-packages (from ipywidgets) (6.4.1)\n",
      "Requirement already satisfied: widgetsnbextension~=3.6.0 in /opt/conda/lib/python3.8/site-packages (from ipywidgets) (3.6.1)\n",
      "Requirement already satisfied: jupyterlab-widgets>=1.0.0 in /opt/conda/lib/python3.8/site-packages (from ipywidgets) (1.1.1)\n",
      "Requirement already satisfied: traitlets>=4.3.1 in /opt/conda/lib/python3.8/site-packages (from ipywidgets) (5.1.0)\n",
      "Requirement already satisfied: ipython-genutils~=0.2.0 in /opt/conda/lib/python3.8/site-packages (from ipywidgets) (0.2.0)\n",
      "Requirement already satisfied: matplotlib-inline<0.2.0,>=0.1.0 in /opt/conda/lib/python3.8/site-packages (from ipykernel>=4.5.1->ipywidgets) (0.1.3)\n",
      "Requirement already satisfied: tornado<7.0,>=4.2 in /opt/conda/lib/python3.8/site-packages (from ipykernel>=4.5.1->ipywidgets) (6.1)\n",
      "Requirement already satisfied: jupyter-client<8.0 in /opt/conda/lib/python3.8/site-packages (from ipykernel>=4.5.1->ipywidgets) (7.0.6)\n",
      "Requirement already satisfied: debugpy<2.0,>=1.0.0 in /opt/conda/lib/python3.8/site-packages (from ipykernel>=4.5.1->ipywidgets) (1.5.0)\n",
      "Requirement already satisfied: pygments in /opt/conda/lib/python3.8/site-packages (from ipython>=4.0.0->ipywidgets) (2.10.0)\n",
      "Requirement already satisfied: backcall in /opt/conda/lib/python3.8/site-packages (from ipython>=4.0.0->ipywidgets) (0.2.0)\n",
      "Requirement already satisfied: jedi>=0.16 in /opt/conda/lib/python3.8/site-packages (from ipython>=4.0.0->ipywidgets) (0.18.0)\n",
      "Requirement already satisfied: decorator in /opt/conda/lib/python3.8/site-packages (from ipython>=4.0.0->ipywidgets) (5.1.0)\n",
      "Requirement already satisfied: pexpect>4.3 in /opt/conda/lib/python3.8/site-packages (from ipython>=4.0.0->ipywidgets) (4.8.0)\n",
      "Requirement already satisfied: prompt-toolkit!=3.0.0,!=3.0.1,<3.1.0,>=2.0.0 in /opt/conda/lib/python3.8/site-packages (from ipython>=4.0.0->ipywidgets) (3.0.20)\n",
      "Requirement already satisfied: pickleshare in /opt/conda/lib/python3.8/site-packages (from ipython>=4.0.0->ipywidgets) (0.7.5)\n",
      "Requirement already satisfied: setuptools>=18.5 in /opt/conda/lib/python3.8/site-packages (from ipython>=4.0.0->ipywidgets) (58.2.0)\n",
      "Requirement already satisfied: parso<0.9.0,>=0.8.0 in /opt/conda/lib/python3.8/site-packages (from jedi>=0.16->ipython>=4.0.0->ipywidgets) (0.8.2)\n",
      "Requirement already satisfied: jupyter-core>=4.6.0 in /opt/conda/lib/python3.8/site-packages (from jupyter-client<8.0->ipykernel>=4.5.1->ipywidgets) (4.8.1)\n",
      "Requirement already satisfied: python-dateutil>=2.1 in /opt/conda/lib/python3.8/site-packages (from jupyter-client<8.0->ipykernel>=4.5.1->ipywidgets) (2.8.2)\n",
      "Requirement already satisfied: pyzmq>=13 in /opt/conda/lib/python3.8/site-packages (from jupyter-client<8.0->ipykernel>=4.5.1->ipywidgets) (22.3.0)\n",
      "Requirement already satisfied: entrypoints in /opt/conda/lib/python3.8/site-packages (from jupyter-client<8.0->ipykernel>=4.5.1->ipywidgets) (0.3)\n",
      "Requirement already satisfied: nest-asyncio>=1.5 in /opt/conda/lib/python3.8/site-packages (from jupyter-client<8.0->ipykernel>=4.5.1->ipywidgets) (1.5.1)\n",
      "Requirement already satisfied: ptyprocess>=0.5 in /opt/conda/lib/python3.8/site-packages (from pexpect>4.3->ipython>=4.0.0->ipywidgets) (0.7.0)\n",
      "Requirement already satisfied: wcwidth in /opt/conda/lib/python3.8/site-packages (from prompt-toolkit!=3.0.0,!=3.0.1,<3.1.0,>=2.0.0->ipython>=4.0.0->ipywidgets) (0.2.5)\n",
      "Requirement already satisfied: six>=1.5 in /opt/conda/lib/python3.8/site-packages (from python-dateutil>=2.1->jupyter-client<8.0->ipykernel>=4.5.1->ipywidgets) (1.16.0)\n",
      "Requirement already satisfied: notebook>=4.4.1 in /opt/conda/lib/python3.8/site-packages (from widgetsnbextension~=3.6.0->ipywidgets) (6.4.1)\n",
      "Requirement already satisfied: nbconvert in /opt/conda/lib/python3.8/site-packages (from notebook>=4.4.1->widgetsnbextension~=3.6.0->ipywidgets) (6.2.0)\n",
      "Requirement already satisfied: argon2-cffi in /opt/conda/lib/python3.8/site-packages (from notebook>=4.4.1->widgetsnbextension~=3.6.0->ipywidgets) (21.1.0)\n",
      "Requirement already satisfied: Send2Trash>=1.5.0 in /opt/conda/lib/python3.8/site-packages (from notebook>=4.4.1->widgetsnbextension~=3.6.0->ipywidgets) (1.8.0)\n",
      "Requirement already satisfied: prometheus-client in /opt/conda/lib/python3.8/site-packages (from notebook>=4.4.1->widgetsnbextension~=3.6.0->ipywidgets) (0.11.0)\n",
      "Requirement already satisfied: jinja2 in /opt/conda/lib/python3.8/site-packages (from notebook>=4.4.1->widgetsnbextension~=3.6.0->ipywidgets) (3.0.1)\n",
      "Requirement already satisfied: terminado>=0.8.3 in /opt/conda/lib/python3.8/site-packages (from notebook>=4.4.1->widgetsnbextension~=3.6.0->ipywidgets) (0.12.1)\n",
      "Requirement already satisfied: nbformat in /opt/conda/lib/python3.8/site-packages (from notebook>=4.4.1->widgetsnbextension~=3.6.0->ipywidgets) (5.1.3)\n",
      "Requirement already satisfied: cffi>=1.0.0 in /opt/conda/lib/python3.8/site-packages (from argon2-cffi->notebook>=4.4.1->widgetsnbextension~=3.6.0->ipywidgets) (1.14.6)\n",
      "Requirement already satisfied: pycparser in /opt/conda/lib/python3.8/site-packages (from cffi>=1.0.0->argon2-cffi->notebook>=4.4.1->widgetsnbextension~=3.6.0->ipywidgets) (2.20)\n",
      "Requirement already satisfied: MarkupSafe>=2.0 in /opt/conda/lib/python3.8/site-packages (from jinja2->notebook>=4.4.1->widgetsnbextension~=3.6.0->ipywidgets) (2.0.1)\n",
      "Requirement already satisfied: defusedxml in /opt/conda/lib/python3.8/site-packages (from nbconvert->notebook>=4.4.1->widgetsnbextension~=3.6.0->ipywidgets) (0.7.1)\n",
      "Requirement already satisfied: mistune<2,>=0.8.1 in /opt/conda/lib/python3.8/site-packages (from nbconvert->notebook>=4.4.1->widgetsnbextension~=3.6.0->ipywidgets) (0.8.4)\n",
      "Requirement already satisfied: bleach in /opt/conda/lib/python3.8/site-packages (from nbconvert->notebook>=4.4.1->widgetsnbextension~=3.6.0->ipywidgets) (4.1.0)\n",
      "Requirement already satisfied: pandocfilters>=1.4.1 in /opt/conda/lib/python3.8/site-packages (from nbconvert->notebook>=4.4.1->widgetsnbextension~=3.6.0->ipywidgets) (1.5.0)\n",
      "Requirement already satisfied: jupyterlab-pygments in /opt/conda/lib/python3.8/site-packages (from nbconvert->notebook>=4.4.1->widgetsnbextension~=3.6.0->ipywidgets) (0.1.2)\n",
      "Requirement already satisfied: nbclient<0.6.0,>=0.5.0 in /opt/conda/lib/python3.8/site-packages (from nbconvert->notebook>=4.4.1->widgetsnbextension~=3.6.0->ipywidgets) (0.5.4)\n",
      "Requirement already satisfied: testpath in /opt/conda/lib/python3.8/site-packages (from nbconvert->notebook>=4.4.1->widgetsnbextension~=3.6.0->ipywidgets) (0.5.0)\n",
      "Requirement already satisfied: jsonschema!=2.5.0,>=2.4 in /opt/conda/lib/python3.8/site-packages (from nbformat->notebook>=4.4.1->widgetsnbextension~=3.6.0->ipywidgets) (4.0.1)\n",
      "Requirement already satisfied: pyrsistent!=0.17.0,!=0.17.1,!=0.17.2,>=0.14.0 in /opt/conda/lib/python3.8/site-packages (from jsonschema!=2.5.0,>=2.4->nbformat->notebook>=4.4.1->widgetsnbextension~=3.6.0->ipywidgets) (0.18.0)\n",
      "Requirement already satisfied: attrs>=17.4.0 in /opt/conda/lib/python3.8/site-packages (from jsonschema!=2.5.0,>=2.4->nbformat->notebook>=4.4.1->widgetsnbextension~=3.6.0->ipywidgets) (21.2.0)\n",
      "Requirement already satisfied: webencodings in /opt/conda/lib/python3.8/site-packages (from bleach->nbconvert->notebook>=4.4.1->widgetsnbextension~=3.6.0->ipywidgets) (0.5.1)\n",
      "Requirement already satisfied: packaging in /opt/conda/lib/python3.8/site-packages (from bleach->nbconvert->notebook>=4.4.1->widgetsnbextension~=3.6.0->ipywidgets) (21.0)\n",
      "Requirement already satisfied: pyparsing>=2.0.2 in /opt/conda/lib/python3.8/site-packages (from packaging->bleach->nbconvert->notebook>=4.4.1->widgetsnbextension~=3.6.0->ipywidgets) (2.4.7)\n",
      "\u001b[33mWARNING: Running pip as the 'root' user can result in broken permissions and conflicting behaviour with the system package manager. It is recommended to use a virtual environment instead: https://pip.pypa.io/warnings/venv\u001b[0m\n",
      "Looking in indexes: https://pypi.org/simple, https://pypi.ngc.nvidia.com\n",
      "Requirement already satisfied: IProgress in /opt/conda/lib/python3.8/site-packages (0.4)\n",
      "Requirement already satisfied: six in /opt/conda/lib/python3.8/site-packages (from IProgress) (1.16.0)\n",
      "\u001b[33mWARNING: Running pip as the 'root' user can result in broken permissions and conflicting behaviour with the system package manager. It is recommended to use a virtual environment instead: https://pip.pypa.io/warnings/venv\u001b[0m\n"
     ]
    }
   ],
   "source": [
    "!pip install transformers\n",
    "!pip install datasets\n",
    "!pip install seqeval\n",
    "!pip install ipywidgets\n",
    "!pip install IProgress"
   ]
  },
  {
   "cell_type": "code",
   "execution_count": 2,
   "id": "80b35ddf",
   "metadata": {},
   "outputs": [],
   "source": [
    "import torch"
   ]
  },
  {
   "cell_type": "code",
   "execution_count": 3,
   "id": "ad8c2b42",
   "metadata": {},
   "outputs": [],
   "source": [
    "import transformers\n",
    "from datasets import load_dataset, load_metric\n",
    "from datasets import Sequence, ClassLabel\n",
    "from datasets import Value"
   ]
  },
  {
   "cell_type": "code",
   "execution_count": 4,
   "id": "1c6576bd",
   "metadata": {},
   "outputs": [],
   "source": [
    "task = \"ner\" # Should be one of \"ner\", \"pos\" or \"chunk\"\n",
    "model_name = \"bert-base-uncased\"\n",
    "batch_size = 16"
   ]
  },
  {
   "cell_type": "code",
   "execution_count": 5,
   "id": "ebf4a8a1",
   "metadata": {},
   "outputs": [],
   "source": [
    "# dataset = load_dataset(\"conll2003\", revision=\"master\")"
   ]
  },
  {
   "cell_type": "code",
   "execution_count": 6,
   "id": "4ba1f8e5",
   "metadata": {},
   "outputs": [],
   "source": [
    "# dataset"
   ]
  },
  {
   "cell_type": "code",
   "execution_count": 7,
   "id": "d6c826f0",
   "metadata": {},
   "outputs": [],
   "source": [
    "PE_DATA_FILE = '/notebooks/ywc_token_classification/ywc_TokCL.pt'"
   ]
  },
  {
   "cell_type": "code",
   "execution_count": 8,
   "id": "b6d9f13d",
   "metadata": {},
   "outputs": [],
   "source": [
    "ywc_dataset = torch.load(PE_DATA_FILE)"
   ]
  },
  {
   "cell_type": "code",
   "execution_count": 9,
   "id": "1f0d6e6a",
   "metadata": {},
   "outputs": [
    {
     "data": {
      "text/plain": [
       "DatasetDict({\n",
       "    train: Dataset({\n",
       "        features: ['full_speech', 'Text', 'Part', 'Document', 'Order', 'Sentence', 'Start', 'End', 'Annotator', 'Tag', 'Component', 'Speech', 'Speaker', 'SpeakerType', 'Set', 'Date', 'Year', 'Name', 'MainTag', 'full_speech_words', 'tags_list', 'multi_class_tags', 'bio_only_tags', 'posfull_tokens_list', 'full_speech_words_proper', 'is_equal_tag', 'mc_int_tags', 'bio_int_tags', 'is_equal_tag_four'],\n",
       "        num_rows: 1589\n",
       "    })\n",
       "    test: Dataset({\n",
       "        features: ['full_speech', 'Text', 'Part', 'Document', 'Order', 'Sentence', 'Start', 'End', 'Annotator', 'Tag', 'Component', 'Speech', 'Speaker', 'SpeakerType', 'Set', 'Date', 'Year', 'Name', 'MainTag', 'full_speech_words', 'tags_list', 'multi_class_tags', 'bio_only_tags', 'posfull_tokens_list', 'full_speech_words_proper', 'is_equal_tag', 'mc_int_tags', 'bio_int_tags', 'is_equal_tag_four'],\n",
       "        num_rows: 847\n",
       "    })\n",
       "    validation: Dataset({\n",
       "        features: ['full_speech', 'Text', 'Part', 'Document', 'Order', 'Sentence', 'Start', 'End', 'Annotator', 'Tag', 'Component', 'Speech', 'Speaker', 'SpeakerType', 'Set', 'Date', 'Year', 'Name', 'MainTag', 'full_speech_words', 'tags_list', 'multi_class_tags', 'bio_only_tags', 'posfull_tokens_list', 'full_speech_words_proper', 'is_equal_tag', 'mc_int_tags', 'bio_int_tags', 'is_equal_tag_four'],\n",
       "        num_rows: 635\n",
       "    })\n",
       "})"
      ]
     },
     "execution_count": 9,
     "metadata": {},
     "output_type": "execute_result"
    }
   ],
   "source": [
    "ywc_dataset"
   ]
  },
  {
   "cell_type": "code",
   "execution_count": 10,
   "id": "3d14783b",
   "metadata": {},
   "outputs": [
    {
     "data": {
      "text/plain": [
       "{'full_speech': Value(dtype='string', id=None),\n",
       " 'Text': Value(dtype='string', id=None),\n",
       " 'Part': Value(dtype='int64', id=None),\n",
       " 'Document': Value(dtype='string', id=None),\n",
       " 'Order': Value(dtype='int64', id=None),\n",
       " 'Sentence': Value(dtype='int64', id=None),\n",
       " 'Start': Value(dtype='int64', id=None),\n",
       " 'End': Value(dtype='int64', id=None),\n",
       " 'Annotator': Value(dtype='float64', id=None),\n",
       " 'Tag': Value(dtype='string', id=None),\n",
       " 'Component': Value(dtype='string', id=None),\n",
       " 'Speech': Value(dtype='string', id=None),\n",
       " 'Speaker': Value(dtype='string', id=None),\n",
       " 'SpeakerType': Value(dtype='string', id=None),\n",
       " 'Set': Value(dtype='string', id=None),\n",
       " 'Date': Value(dtype='string', id=None),\n",
       " 'Year': Value(dtype='int64', id=None),\n",
       " 'Name': Value(dtype='string', id=None),\n",
       " 'MainTag': Value(dtype='string', id=None),\n",
       " 'full_speech_words': Sequence(feature=Value(dtype='string', id=None), length=-1, id=None),\n",
       " 'tags_list': Sequence(feature=Value(dtype='string', id=None), length=-1, id=None),\n",
       " 'multi_class_tags': Sequence(feature=Value(dtype='string', id=None), length=-1, id=None),\n",
       " 'bio_only_tags': Sequence(feature=Value(dtype='string', id=None), length=-1, id=None),\n",
       " 'posfull_tokens_list': Sequence(feature=Value(dtype='string', id=None), length=-1, id=None),\n",
       " 'full_speech_words_proper': Sequence(feature=Value(dtype='string', id=None), length=-1, id=None),\n",
       " 'is_equal_tag': Value(dtype='int64', id=None),\n",
       " 'mc_int_tags': Sequence(feature=Value(dtype='int64', id=None), length=-1, id=None),\n",
       " 'bio_int_tags': Sequence(feature=Value(dtype='int64', id=None), length=-1, id=None),\n",
       " 'is_equal_tag_four': Value(dtype='int64', id=None)}"
      ]
     },
     "execution_count": 10,
     "metadata": {},
     "output_type": "execute_result"
    }
   ],
   "source": [
    "ywc_dataset['train'].features"
   ]
  },
  {
   "cell_type": "code",
   "execution_count": 11,
   "id": "23521fce",
   "metadata": {},
   "outputs": [],
   "source": [
    "#pe_dataset = pe_dataset.rename_column(\"tags_list_int\", \"paragraph_tags_list_int\")"
   ]
  },
  {
   "cell_type": "code",
   "execution_count": 12,
   "id": "11f57999",
   "metadata": {},
   "outputs": [],
   "source": [
    "#pe_dataset['train'].features"
   ]
  },
  {
   "cell_type": "markdown",
   "id": "998a1bcc",
   "metadata": {},
   "source": [
    "### my work today"
   ]
  },
  {
   "cell_type": "code",
   "execution_count": 13,
   "id": "f8ca3f4c",
   "metadata": {},
   "outputs": [],
   "source": [
    "# what if we sequence the int labels to the class labels? will it work?"
   ]
  },
  {
   "cell_type": "code",
   "execution_count": 14,
   "id": "d99cdec8",
   "metadata": {},
   "outputs": [],
   "source": [
    "ywc_dataset['train'].features['mc_int_tags'] = Sequence(feature=ClassLabel(num_classes=5, names=['O', 'B-CL', 'I-CL', 'B-PREM', 'I-PREM'], names_file=None, id=None),\n",
    "                                             length=-1, id=None)"
   ]
  },
  {
   "cell_type": "code",
   "execution_count": 15,
   "id": "54305466",
   "metadata": {},
   "outputs": [
    {
     "data": {
      "text/plain": [
       "Sequence(feature=ClassLabel(num_classes=5, names=['O', 'B-CL', 'I-CL', 'B-PREM', 'I-PREM'], names_file=None, id=None), length=-1, id=None)"
      ]
     },
     "execution_count": 15,
     "metadata": {},
     "output_type": "execute_result"
    }
   ],
   "source": [
    "ywc_dataset['train'].features['mc_int_tags']"
   ]
  },
  {
   "cell_type": "code",
   "execution_count": 16,
   "id": "eecbafaf",
   "metadata": {},
   "outputs": [],
   "source": [
    "ywc_dataset['test'].features['mc_int_tags'] = Sequence(feature=ClassLabel(num_classes=5, names=['O', 'B-CL', 'I-CL', 'B-PREM', 'I-PREM'], names_file=None, id=None),\n",
    "                                             length=-1, id=None)"
   ]
  },
  {
   "cell_type": "code",
   "execution_count": 17,
   "id": "6d11c77d",
   "metadata": {},
   "outputs": [],
   "source": [
    "ywc_dataset['validation'].features['mc_int_tags'] = Sequence(feature=ClassLabel(num_classes=5, names=['O', 'B-CL', 'I-CL', 'B-PREM', 'I-PREM'], names_file=None, id=None),\n",
    "                                             length=-1, id=None)"
   ]
  },
  {
   "cell_type": "code",
   "execution_count": 18,
   "id": "9af82826",
   "metadata": {},
   "outputs": [
    {
     "data": {
      "text/plain": [
       "Sequence(feature=ClassLabel(num_classes=5, names=['O', 'B-CL', 'I-CL', 'B-PREM', 'I-PREM'], names_file=None, id=None), length=-1, id=None)"
      ]
     },
     "execution_count": 18,
     "metadata": {},
     "output_type": "execute_result"
    }
   ],
   "source": [
    "ywc_dataset['test'].features['mc_int_tags']"
   ]
  },
  {
   "cell_type": "code",
   "execution_count": 19,
   "id": "cef9f89c",
   "metadata": {},
   "outputs": [
    {
     "data": {
      "text/plain": [
       "Sequence(feature=ClassLabel(num_classes=5, names=['O', 'B-CL', 'I-CL', 'B-PREM', 'I-PREM'], names_file=None, id=None), length=-1, id=None)"
      ]
     },
     "execution_count": 19,
     "metadata": {},
     "output_type": "execute_result"
    }
   ],
   "source": [
    "ywc_dataset['validation'].features['mc_int_tags']"
   ]
  },
  {
   "cell_type": "code",
   "execution_count": 20,
   "id": "0f86a55d",
   "metadata": {},
   "outputs": [
    {
     "data": {
      "text/plain": [
       "{'full_speech': Value(dtype='string', id=None),\n",
       " 'Text': Value(dtype='string', id=None),\n",
       " 'Part': Value(dtype='int64', id=None),\n",
       " 'Document': Value(dtype='string', id=None),\n",
       " 'Order': Value(dtype='int64', id=None),\n",
       " 'Sentence': Value(dtype='int64', id=None),\n",
       " 'Start': Value(dtype='int64', id=None),\n",
       " 'End': Value(dtype='int64', id=None),\n",
       " 'Annotator': Value(dtype='float64', id=None),\n",
       " 'Tag': Value(dtype='string', id=None),\n",
       " 'Component': Value(dtype='string', id=None),\n",
       " 'Speech': Value(dtype='string', id=None),\n",
       " 'Speaker': Value(dtype='string', id=None),\n",
       " 'SpeakerType': Value(dtype='string', id=None),\n",
       " 'Set': Value(dtype='string', id=None),\n",
       " 'Date': Value(dtype='string', id=None),\n",
       " 'Year': Value(dtype='int64', id=None),\n",
       " 'Name': Value(dtype='string', id=None),\n",
       " 'MainTag': Value(dtype='string', id=None),\n",
       " 'full_speech_words': Sequence(feature=Value(dtype='string', id=None), length=-1, id=None),\n",
       " 'tags_list': Sequence(feature=Value(dtype='string', id=None), length=-1, id=None),\n",
       " 'multi_class_tags': Sequence(feature=Value(dtype='string', id=None), length=-1, id=None),\n",
       " 'bio_only_tags': Sequence(feature=Value(dtype='string', id=None), length=-1, id=None),\n",
       " 'posfull_tokens_list': Sequence(feature=Value(dtype='string', id=None), length=-1, id=None),\n",
       " 'full_speech_words_proper': Sequence(feature=Value(dtype='string', id=None), length=-1, id=None),\n",
       " 'is_equal_tag': Value(dtype='int64', id=None),\n",
       " 'mc_int_tags': Sequence(feature=ClassLabel(num_classes=5, names=['O', 'B-CL', 'I-CL', 'B-PREM', 'I-PREM'], names_file=None, id=None), length=-1, id=None),\n",
       " 'bio_int_tags': Sequence(feature=Value(dtype='int64', id=None), length=-1, id=None),\n",
       " 'is_equal_tag_four': Value(dtype='int64', id=None)}"
      ]
     },
     "execution_count": 20,
     "metadata": {},
     "output_type": "execute_result"
    }
   ],
   "source": [
    "ywc_dataset['train'].features"
   ]
  },
  {
   "cell_type": "code",
   "execution_count": 21,
   "id": "66c7f6c1",
   "metadata": {
    "scrolled": true
   },
   "outputs": [
    {
     "data": {
      "text/plain": [
       "[2,\n",
       " 2,\n",
       " 2,\n",
       " 2,\n",
       " 2,\n",
       " 2,\n",
       " 2,\n",
       " 2,\n",
       " 2,\n",
       " 2,\n",
       " 2,\n",
       " 2,\n",
       " 2,\n",
       " 2,\n",
       " 2,\n",
       " 2,\n",
       " 2,\n",
       " 2,\n",
       " 2,\n",
       " 2,\n",
       " 2,\n",
       " 2,\n",
       " 2,\n",
       " 2,\n",
       " 2,\n",
       " 2,\n",
       " 2,\n",
       " 2,\n",
       " 2,\n",
       " 2,\n",
       " 2,\n",
       " 2,\n",
       " 2,\n",
       " 2,\n",
       " 2,\n",
       " 2,\n",
       " 2,\n",
       " 2,\n",
       " 2,\n",
       " 2,\n",
       " 2,\n",
       " 2,\n",
       " 2,\n",
       " 2,\n",
       " 2,\n",
       " 2,\n",
       " 2,\n",
       " 2,\n",
       " 2,\n",
       " 2,\n",
       " 2,\n",
       " 2,\n",
       " 2,\n",
       " 2,\n",
       " 2,\n",
       " 2,\n",
       " 2,\n",
       " 2,\n",
       " 2,\n",
       " 2,\n",
       " 2,\n",
       " 2,\n",
       " 2,\n",
       " 2,\n",
       " 2,\n",
       " 2,\n",
       " 2,\n",
       " 2,\n",
       " 2,\n",
       " 2,\n",
       " 2,\n",
       " 2,\n",
       " 2,\n",
       " 2,\n",
       " 2,\n",
       " 2,\n",
       " 2,\n",
       " 2,\n",
       " 2,\n",
       " 2,\n",
       " 2,\n",
       " 2,\n",
       " 2,\n",
       " 2,\n",
       " 2,\n",
       " 2,\n",
       " 2,\n",
       " 2,\n",
       " 2,\n",
       " 2,\n",
       " 2,\n",
       " 2,\n",
       " 2,\n",
       " 2,\n",
       " 2,\n",
       " 2,\n",
       " 2,\n",
       " 2,\n",
       " 2,\n",
       " 2,\n",
       " 2,\n",
       " 2,\n",
       " 2,\n",
       " 2,\n",
       " 2,\n",
       " 2,\n",
       " 2,\n",
       " 2,\n",
       " 2,\n",
       " 2,\n",
       " 2,\n",
       " 2,\n",
       " 2,\n",
       " 2,\n",
       " 2,\n",
       " 2,\n",
       " 2,\n",
       " 2,\n",
       " 2,\n",
       " 2,\n",
       " 2,\n",
       " 2,\n",
       " 2,\n",
       " 2,\n",
       " 2,\n",
       " 2,\n",
       " 2,\n",
       " 2,\n",
       " 2,\n",
       " 2,\n",
       " 2,\n",
       " 2,\n",
       " 2,\n",
       " 2,\n",
       " 2,\n",
       " 2,\n",
       " 2,\n",
       " 2,\n",
       " 2,\n",
       " 2,\n",
       " 2,\n",
       " 2,\n",
       " 2,\n",
       " 2,\n",
       " 2,\n",
       " 2,\n",
       " 2,\n",
       " 2,\n",
       " 2,\n",
       " 2,\n",
       " 2,\n",
       " 2,\n",
       " 2,\n",
       " 2,\n",
       " 2,\n",
       " 2,\n",
       " 2,\n",
       " 2,\n",
       " 2,\n",
       " 2,\n",
       " 2,\n",
       " 2,\n",
       " 2,\n",
       " 2,\n",
       " 2,\n",
       " 2,\n",
       " 2,\n",
       " 2]"
      ]
     },
     "execution_count": 21,
     "metadata": {},
     "output_type": "execute_result"
    }
   ],
   "source": [
    "ywc_dataset[\"train\"][0][\"mc_int_tags\"]"
   ]
  },
  {
   "cell_type": "code",
   "execution_count": 22,
   "id": "76866708",
   "metadata": {},
   "outputs": [],
   "source": [
    "# seems correct"
   ]
  },
  {
   "cell_type": "code",
   "execution_count": 23,
   "id": "857dd67a",
   "metadata": {},
   "outputs": [],
   "source": [
    "from transformers import AutoTokenizer"
   ]
  },
  {
   "cell_type": "code",
   "execution_count": 24,
   "id": "b6c3b225",
   "metadata": {},
   "outputs": [],
   "source": [
    "tokenizer = AutoTokenizer.from_pretrained(model_name)"
   ]
  },
  {
   "cell_type": "code",
   "execution_count": 25,
   "id": "129c3656",
   "metadata": {},
   "outputs": [],
   "source": [
    "def align_labels_with_tokens(labels, word_ids):\n",
    "    new_labels = []\n",
    "    current_word = None\n",
    "    for word_id in word_ids:\n",
    "        if word_id != current_word:\n",
    "            # Start of a new word!\n",
    "            current_word = word_id\n",
    "            label = -100 if word_id is None else labels[word_id]\n",
    "            new_labels.append(label)\n",
    "        elif word_id is None:\n",
    "            # Special token\n",
    "            new_labels.append(-100)\n",
    "        else:\n",
    "            # Same word as previous token\n",
    "            label = labels[word_id]\n",
    "            # If the label is B-XXX we change it to I-XXX\n",
    "            if label % 2 == 1:\n",
    "                label += 1\n",
    "            new_labels.append(label)\n",
    "\n",
    "    return new_labels"
   ]
  },
  {
   "cell_type": "code",
   "execution_count": 26,
   "id": "14ea69bc",
   "metadata": {},
   "outputs": [],
   "source": [
    "def tokenize_and_align_labels_hf(examples):\n",
    "    tokenized_inputs = tokenizer(\n",
    "        examples[\"full_speech_words_proper\"], truncation=True, is_split_into_words=True\n",
    "    )\n",
    "    all_labels = examples[\"mc_int_tags\"]\n",
    "    #print(examples[\"paragraph_tags\"])\n",
    "    #all_labels = labels_object.str2int(examples[\"paragraph_tags\"])\n",
    "    \n",
    "    new_labels = []\n",
    "    for i, labels in enumerate(all_labels):\n",
    "        word_ids = tokenized_inputs.word_ids(i)\n",
    "        new_labels.append(align_labels_with_tokens(labels, word_ids))\n",
    "\n",
    "    tokenized_inputs[\"labels\"] = new_labels\n",
    "    return tokenized_inputs"
   ]
  },
  {
   "cell_type": "code",
   "execution_count": 27,
   "id": "88e49ff9",
   "metadata": {},
   "outputs": [],
   "source": [
    "label_all_tokens = True"
   ]
  },
  {
   "cell_type": "code",
   "execution_count": 29,
   "id": "19c1f234",
   "metadata": {
    "scrolled": true
   },
   "outputs": [
    {
     "name": "stderr",
     "output_type": "stream",
     "text": [
      "Parameter 'function'=<function tokenize_and_align_labels_hf at 0x7f1242436310> of the transform datasets.arrow_dataset.Dataset._map_single couldn't be hashed properly, a random hash was used instead. Make sure your transforms and parameters are serializable with pickle or dill for the dataset fingerprinting and caching to work. If you reuse this transform, the caching mechanism will consider it to be different from the previous calls and recompute everything. This warning is only showed once. Subsequent hashing failures won't be showed.\n"
     ]
    },
    {
     "data": {
      "application/vnd.jupyter.widget-view+json": {
       "model_id": "3c97583dd4af4fedb50973ffa900a508",
       "version_major": 2,
       "version_minor": 0
      },
      "text/plain": [
       "  0%|          | 0/2 [00:00<?, ?ba/s]"
      ]
     },
     "metadata": {},
     "output_type": "display_data"
    },
    {
     "data": {
      "application/vnd.jupyter.widget-view+json": {
       "model_id": "aeeb4f8e737646a0a021e54d5ad6e447",
       "version_major": 2,
       "version_minor": 0
      },
      "text/plain": [
       "  0%|          | 0/1 [00:00<?, ?ba/s]"
      ]
     },
     "metadata": {},
     "output_type": "display_data"
    },
    {
     "data": {
      "application/vnd.jupyter.widget-view+json": {
       "model_id": "8174a0825f2248b4a468d17e3144ba11",
       "version_major": 2,
       "version_minor": 0
      },
      "text/plain": [
       "  0%|          | 0/1 [00:00<?, ?ba/s]"
      ]
     },
     "metadata": {},
     "output_type": "display_data"
    }
   ],
   "source": [
    "tokenized_datasets = ywc_dataset.map(tokenize_and_align_labels_hf, batched=True)"
   ]
  },
  {
   "cell_type": "code",
   "execution_count": 30,
   "id": "a1e453ca",
   "metadata": {},
   "outputs": [],
   "source": [
    "label_list = ywc_dataset[\"train\"].features['mc_int_tags'].feature.names"
   ]
  },
  {
   "cell_type": "code",
   "execution_count": 31,
   "id": "51edb86b",
   "metadata": {},
   "outputs": [
    {
     "data": {
      "text/plain": [
       "['O', 'B-CL', 'I-CL', 'B-PREM', 'I-PREM']"
      ]
     },
     "execution_count": 31,
     "metadata": {},
     "output_type": "execute_result"
    }
   ],
   "source": [
    "label_list"
   ]
  },
  {
   "cell_type": "code",
   "execution_count": 32,
   "id": "ef411043",
   "metadata": {},
   "outputs": [
    {
     "data": {
      "text/plain": [
       "['O', 'B-CL', 'I-CL', 'B-PREM', 'I-PREM']"
      ]
     },
     "execution_count": 32,
     "metadata": {},
     "output_type": "execute_result"
    }
   ],
   "source": [
    "ywc_dataset[\"train\"].features['mc_int_tags'].feature.names"
   ]
  },
  {
   "cell_type": "code",
   "execution_count": 33,
   "id": "1f8710e9",
   "metadata": {},
   "outputs": [
    {
     "name": "stderr",
     "output_type": "stream",
     "text": [
      "Some weights of the model checkpoint at bert-base-uncased were not used when initializing BertForTokenClassification: ['cls.predictions.bias', 'cls.predictions.transform.LayerNorm.weight', 'cls.predictions.decoder.weight', 'cls.predictions.transform.dense.weight', 'cls.seq_relationship.weight', 'cls.predictions.transform.LayerNorm.bias', 'cls.seq_relationship.bias', 'cls.predictions.transform.dense.bias']\n",
      "- This IS expected if you are initializing BertForTokenClassification from the checkpoint of a model trained on another task or with another architecture (e.g. initializing a BertForSequenceClassification model from a BertForPreTraining model).\n",
      "- This IS NOT expected if you are initializing BertForTokenClassification from the checkpoint of a model that you expect to be exactly identical (initializing a BertForSequenceClassification model from a BertForSequenceClassification model).\n",
      "Some weights of BertForTokenClassification were not initialized from the model checkpoint at bert-base-uncased and are newly initialized: ['classifier.bias', 'classifier.weight']\n",
      "You should probably TRAIN this model on a down-stream task to be able to use it for predictions and inference.\n"
     ]
    }
   ],
   "source": [
    "from transformers import AutoModelForTokenClassification, TrainingArguments, Trainer\n",
    "\n",
    "model = AutoModelForTokenClassification.from_pretrained(model_name, num_labels=len(label_list))"
   ]
  },
  {
   "cell_type": "code",
   "execution_count": 34,
   "id": "3313bc38",
   "metadata": {
    "scrolled": true
   },
   "outputs": [
    {
     "data": {
      "text/plain": [
       "BertForTokenClassification(\n",
       "  (bert): BertModel(\n",
       "    (embeddings): BertEmbeddings(\n",
       "      (word_embeddings): Embedding(30522, 768, padding_idx=0)\n",
       "      (position_embeddings): Embedding(512, 768)\n",
       "      (token_type_embeddings): Embedding(2, 768)\n",
       "      (LayerNorm): LayerNorm((768,), eps=1e-12, elementwise_affine=True)\n",
       "      (dropout): Dropout(p=0.1, inplace=False)\n",
       "    )\n",
       "    (encoder): BertEncoder(\n",
       "      (layer): ModuleList(\n",
       "        (0): BertLayer(\n",
       "          (attention): BertAttention(\n",
       "            (self): BertSelfAttention(\n",
       "              (query): Linear(in_features=768, out_features=768, bias=True)\n",
       "              (key): Linear(in_features=768, out_features=768, bias=True)\n",
       "              (value): Linear(in_features=768, out_features=768, bias=True)\n",
       "              (dropout): Dropout(p=0.1, inplace=False)\n",
       "            )\n",
       "            (output): BertSelfOutput(\n",
       "              (dense): Linear(in_features=768, out_features=768, bias=True)\n",
       "              (LayerNorm): LayerNorm((768,), eps=1e-12, elementwise_affine=True)\n",
       "              (dropout): Dropout(p=0.1, inplace=False)\n",
       "            )\n",
       "          )\n",
       "          (intermediate): BertIntermediate(\n",
       "            (dense): Linear(in_features=768, out_features=3072, bias=True)\n",
       "          )\n",
       "          (output): BertOutput(\n",
       "            (dense): Linear(in_features=3072, out_features=768, bias=True)\n",
       "            (LayerNorm): LayerNorm((768,), eps=1e-12, elementwise_affine=True)\n",
       "            (dropout): Dropout(p=0.1, inplace=False)\n",
       "          )\n",
       "        )\n",
       "        (1): BertLayer(\n",
       "          (attention): BertAttention(\n",
       "            (self): BertSelfAttention(\n",
       "              (query): Linear(in_features=768, out_features=768, bias=True)\n",
       "              (key): Linear(in_features=768, out_features=768, bias=True)\n",
       "              (value): Linear(in_features=768, out_features=768, bias=True)\n",
       "              (dropout): Dropout(p=0.1, inplace=False)\n",
       "            )\n",
       "            (output): BertSelfOutput(\n",
       "              (dense): Linear(in_features=768, out_features=768, bias=True)\n",
       "              (LayerNorm): LayerNorm((768,), eps=1e-12, elementwise_affine=True)\n",
       "              (dropout): Dropout(p=0.1, inplace=False)\n",
       "            )\n",
       "          )\n",
       "          (intermediate): BertIntermediate(\n",
       "            (dense): Linear(in_features=768, out_features=3072, bias=True)\n",
       "          )\n",
       "          (output): BertOutput(\n",
       "            (dense): Linear(in_features=3072, out_features=768, bias=True)\n",
       "            (LayerNorm): LayerNorm((768,), eps=1e-12, elementwise_affine=True)\n",
       "            (dropout): Dropout(p=0.1, inplace=False)\n",
       "          )\n",
       "        )\n",
       "        (2): BertLayer(\n",
       "          (attention): BertAttention(\n",
       "            (self): BertSelfAttention(\n",
       "              (query): Linear(in_features=768, out_features=768, bias=True)\n",
       "              (key): Linear(in_features=768, out_features=768, bias=True)\n",
       "              (value): Linear(in_features=768, out_features=768, bias=True)\n",
       "              (dropout): Dropout(p=0.1, inplace=False)\n",
       "            )\n",
       "            (output): BertSelfOutput(\n",
       "              (dense): Linear(in_features=768, out_features=768, bias=True)\n",
       "              (LayerNorm): LayerNorm((768,), eps=1e-12, elementwise_affine=True)\n",
       "              (dropout): Dropout(p=0.1, inplace=False)\n",
       "            )\n",
       "          )\n",
       "          (intermediate): BertIntermediate(\n",
       "            (dense): Linear(in_features=768, out_features=3072, bias=True)\n",
       "          )\n",
       "          (output): BertOutput(\n",
       "            (dense): Linear(in_features=3072, out_features=768, bias=True)\n",
       "            (LayerNorm): LayerNorm((768,), eps=1e-12, elementwise_affine=True)\n",
       "            (dropout): Dropout(p=0.1, inplace=False)\n",
       "          )\n",
       "        )\n",
       "        (3): BertLayer(\n",
       "          (attention): BertAttention(\n",
       "            (self): BertSelfAttention(\n",
       "              (query): Linear(in_features=768, out_features=768, bias=True)\n",
       "              (key): Linear(in_features=768, out_features=768, bias=True)\n",
       "              (value): Linear(in_features=768, out_features=768, bias=True)\n",
       "              (dropout): Dropout(p=0.1, inplace=False)\n",
       "            )\n",
       "            (output): BertSelfOutput(\n",
       "              (dense): Linear(in_features=768, out_features=768, bias=True)\n",
       "              (LayerNorm): LayerNorm((768,), eps=1e-12, elementwise_affine=True)\n",
       "              (dropout): Dropout(p=0.1, inplace=False)\n",
       "            )\n",
       "          )\n",
       "          (intermediate): BertIntermediate(\n",
       "            (dense): Linear(in_features=768, out_features=3072, bias=True)\n",
       "          )\n",
       "          (output): BertOutput(\n",
       "            (dense): Linear(in_features=3072, out_features=768, bias=True)\n",
       "            (LayerNorm): LayerNorm((768,), eps=1e-12, elementwise_affine=True)\n",
       "            (dropout): Dropout(p=0.1, inplace=False)\n",
       "          )\n",
       "        )\n",
       "        (4): BertLayer(\n",
       "          (attention): BertAttention(\n",
       "            (self): BertSelfAttention(\n",
       "              (query): Linear(in_features=768, out_features=768, bias=True)\n",
       "              (key): Linear(in_features=768, out_features=768, bias=True)\n",
       "              (value): Linear(in_features=768, out_features=768, bias=True)\n",
       "              (dropout): Dropout(p=0.1, inplace=False)\n",
       "            )\n",
       "            (output): BertSelfOutput(\n",
       "              (dense): Linear(in_features=768, out_features=768, bias=True)\n",
       "              (LayerNorm): LayerNorm((768,), eps=1e-12, elementwise_affine=True)\n",
       "              (dropout): Dropout(p=0.1, inplace=False)\n",
       "            )\n",
       "          )\n",
       "          (intermediate): BertIntermediate(\n",
       "            (dense): Linear(in_features=768, out_features=3072, bias=True)\n",
       "          )\n",
       "          (output): BertOutput(\n",
       "            (dense): Linear(in_features=3072, out_features=768, bias=True)\n",
       "            (LayerNorm): LayerNorm((768,), eps=1e-12, elementwise_affine=True)\n",
       "            (dropout): Dropout(p=0.1, inplace=False)\n",
       "          )\n",
       "        )\n",
       "        (5): BertLayer(\n",
       "          (attention): BertAttention(\n",
       "            (self): BertSelfAttention(\n",
       "              (query): Linear(in_features=768, out_features=768, bias=True)\n",
       "              (key): Linear(in_features=768, out_features=768, bias=True)\n",
       "              (value): Linear(in_features=768, out_features=768, bias=True)\n",
       "              (dropout): Dropout(p=0.1, inplace=False)\n",
       "            )\n",
       "            (output): BertSelfOutput(\n",
       "              (dense): Linear(in_features=768, out_features=768, bias=True)\n",
       "              (LayerNorm): LayerNorm((768,), eps=1e-12, elementwise_affine=True)\n",
       "              (dropout): Dropout(p=0.1, inplace=False)\n",
       "            )\n",
       "          )\n",
       "          (intermediate): BertIntermediate(\n",
       "            (dense): Linear(in_features=768, out_features=3072, bias=True)\n",
       "          )\n",
       "          (output): BertOutput(\n",
       "            (dense): Linear(in_features=3072, out_features=768, bias=True)\n",
       "            (LayerNorm): LayerNorm((768,), eps=1e-12, elementwise_affine=True)\n",
       "            (dropout): Dropout(p=0.1, inplace=False)\n",
       "          )\n",
       "        )\n",
       "        (6): BertLayer(\n",
       "          (attention): BertAttention(\n",
       "            (self): BertSelfAttention(\n",
       "              (query): Linear(in_features=768, out_features=768, bias=True)\n",
       "              (key): Linear(in_features=768, out_features=768, bias=True)\n",
       "              (value): Linear(in_features=768, out_features=768, bias=True)\n",
       "              (dropout): Dropout(p=0.1, inplace=False)\n",
       "            )\n",
       "            (output): BertSelfOutput(\n",
       "              (dense): Linear(in_features=768, out_features=768, bias=True)\n",
       "              (LayerNorm): LayerNorm((768,), eps=1e-12, elementwise_affine=True)\n",
       "              (dropout): Dropout(p=0.1, inplace=False)\n",
       "            )\n",
       "          )\n",
       "          (intermediate): BertIntermediate(\n",
       "            (dense): Linear(in_features=768, out_features=3072, bias=True)\n",
       "          )\n",
       "          (output): BertOutput(\n",
       "            (dense): Linear(in_features=3072, out_features=768, bias=True)\n",
       "            (LayerNorm): LayerNorm((768,), eps=1e-12, elementwise_affine=True)\n",
       "            (dropout): Dropout(p=0.1, inplace=False)\n",
       "          )\n",
       "        )\n",
       "        (7): BertLayer(\n",
       "          (attention): BertAttention(\n",
       "            (self): BertSelfAttention(\n",
       "              (query): Linear(in_features=768, out_features=768, bias=True)\n",
       "              (key): Linear(in_features=768, out_features=768, bias=True)\n",
       "              (value): Linear(in_features=768, out_features=768, bias=True)\n",
       "              (dropout): Dropout(p=0.1, inplace=False)\n",
       "            )\n",
       "            (output): BertSelfOutput(\n",
       "              (dense): Linear(in_features=768, out_features=768, bias=True)\n",
       "              (LayerNorm): LayerNorm((768,), eps=1e-12, elementwise_affine=True)\n",
       "              (dropout): Dropout(p=0.1, inplace=False)\n",
       "            )\n",
       "          )\n",
       "          (intermediate): BertIntermediate(\n",
       "            (dense): Linear(in_features=768, out_features=3072, bias=True)\n",
       "          )\n",
       "          (output): BertOutput(\n",
       "            (dense): Linear(in_features=3072, out_features=768, bias=True)\n",
       "            (LayerNorm): LayerNorm((768,), eps=1e-12, elementwise_affine=True)\n",
       "            (dropout): Dropout(p=0.1, inplace=False)\n",
       "          )\n",
       "        )\n",
       "        (8): BertLayer(\n",
       "          (attention): BertAttention(\n",
       "            (self): BertSelfAttention(\n",
       "              (query): Linear(in_features=768, out_features=768, bias=True)\n",
       "              (key): Linear(in_features=768, out_features=768, bias=True)\n",
       "              (value): Linear(in_features=768, out_features=768, bias=True)\n",
       "              (dropout): Dropout(p=0.1, inplace=False)\n",
       "            )\n",
       "            (output): BertSelfOutput(\n",
       "              (dense): Linear(in_features=768, out_features=768, bias=True)\n",
       "              (LayerNorm): LayerNorm((768,), eps=1e-12, elementwise_affine=True)\n",
       "              (dropout): Dropout(p=0.1, inplace=False)\n",
       "            )\n",
       "          )\n",
       "          (intermediate): BertIntermediate(\n",
       "            (dense): Linear(in_features=768, out_features=3072, bias=True)\n",
       "          )\n",
       "          (output): BertOutput(\n",
       "            (dense): Linear(in_features=3072, out_features=768, bias=True)\n",
       "            (LayerNorm): LayerNorm((768,), eps=1e-12, elementwise_affine=True)\n",
       "            (dropout): Dropout(p=0.1, inplace=False)\n",
       "          )\n",
       "        )\n",
       "        (9): BertLayer(\n",
       "          (attention): BertAttention(\n",
       "            (self): BertSelfAttention(\n",
       "              (query): Linear(in_features=768, out_features=768, bias=True)\n",
       "              (key): Linear(in_features=768, out_features=768, bias=True)\n",
       "              (value): Linear(in_features=768, out_features=768, bias=True)\n",
       "              (dropout): Dropout(p=0.1, inplace=False)\n",
       "            )\n",
       "            (output): BertSelfOutput(\n",
       "              (dense): Linear(in_features=768, out_features=768, bias=True)\n",
       "              (LayerNorm): LayerNorm((768,), eps=1e-12, elementwise_affine=True)\n",
       "              (dropout): Dropout(p=0.1, inplace=False)\n",
       "            )\n",
       "          )\n",
       "          (intermediate): BertIntermediate(\n",
       "            (dense): Linear(in_features=768, out_features=3072, bias=True)\n",
       "          )\n",
       "          (output): BertOutput(\n",
       "            (dense): Linear(in_features=3072, out_features=768, bias=True)\n",
       "            (LayerNorm): LayerNorm((768,), eps=1e-12, elementwise_affine=True)\n",
       "            (dropout): Dropout(p=0.1, inplace=False)\n",
       "          )\n",
       "        )\n",
       "        (10): BertLayer(\n",
       "          (attention): BertAttention(\n",
       "            (self): BertSelfAttention(\n",
       "              (query): Linear(in_features=768, out_features=768, bias=True)\n",
       "              (key): Linear(in_features=768, out_features=768, bias=True)\n",
       "              (value): Linear(in_features=768, out_features=768, bias=True)\n",
       "              (dropout): Dropout(p=0.1, inplace=False)\n",
       "            )\n",
       "            (output): BertSelfOutput(\n",
       "              (dense): Linear(in_features=768, out_features=768, bias=True)\n",
       "              (LayerNorm): LayerNorm((768,), eps=1e-12, elementwise_affine=True)\n",
       "              (dropout): Dropout(p=0.1, inplace=False)\n",
       "            )\n",
       "          )\n",
       "          (intermediate): BertIntermediate(\n",
       "            (dense): Linear(in_features=768, out_features=3072, bias=True)\n",
       "          )\n",
       "          (output): BertOutput(\n",
       "            (dense): Linear(in_features=3072, out_features=768, bias=True)\n",
       "            (LayerNorm): LayerNorm((768,), eps=1e-12, elementwise_affine=True)\n",
       "            (dropout): Dropout(p=0.1, inplace=False)\n",
       "          )\n",
       "        )\n",
       "        (11): BertLayer(\n",
       "          (attention): BertAttention(\n",
       "            (self): BertSelfAttention(\n",
       "              (query): Linear(in_features=768, out_features=768, bias=True)\n",
       "              (key): Linear(in_features=768, out_features=768, bias=True)\n",
       "              (value): Linear(in_features=768, out_features=768, bias=True)\n",
       "              (dropout): Dropout(p=0.1, inplace=False)\n",
       "            )\n",
       "            (output): BertSelfOutput(\n",
       "              (dense): Linear(in_features=768, out_features=768, bias=True)\n",
       "              (LayerNorm): LayerNorm((768,), eps=1e-12, elementwise_affine=True)\n",
       "              (dropout): Dropout(p=0.1, inplace=False)\n",
       "            )\n",
       "          )\n",
       "          (intermediate): BertIntermediate(\n",
       "            (dense): Linear(in_features=768, out_features=3072, bias=True)\n",
       "          )\n",
       "          (output): BertOutput(\n",
       "            (dense): Linear(in_features=3072, out_features=768, bias=True)\n",
       "            (LayerNorm): LayerNorm((768,), eps=1e-12, elementwise_affine=True)\n",
       "            (dropout): Dropout(p=0.1, inplace=False)\n",
       "          )\n",
       "        )\n",
       "      )\n",
       "    )\n",
       "  )\n",
       "  (dropout): Dropout(p=0.1, inplace=False)\n",
       "  (classifier): Linear(in_features=768, out_features=5, bias=True)\n",
       ")"
      ]
     },
     "execution_count": 34,
     "metadata": {},
     "output_type": "execute_result"
    }
   ],
   "source": [
    "device = torch.device('cuda' if torch.cuda.is_available() else 'cpu')\n",
    "model.to(device)"
   ]
  },
  {
   "cell_type": "code",
   "execution_count": 36,
   "id": "85756d19",
   "metadata": {},
   "outputs": [],
   "source": [
    "model_name = model_name.split(\"/\")[-1]\n",
    "args = TrainingArguments(\n",
    "    f\"{model_name}-finetuned-{task}\",\n",
    "    evaluation_strategy = \"epoch\",\n",
    "    learning_rate=1e-5,\n",
    "    per_device_train_batch_size=batch_size,\n",
    "    per_device_eval_batch_size=batch_size,\n",
    "    num_train_epochs=16,\n",
    "    weight_decay=0.01,\n",
    "    eval_steps=20,\n",
    "    logging_steps=20\n",
    "    #push_to_hub=True,\n",
    ")"
   ]
  },
  {
   "cell_type": "code",
   "execution_count": 37,
   "id": "b183fb79",
   "metadata": {},
   "outputs": [],
   "source": [
    "from transformers import DataCollatorForTokenClassification\n",
    "\n",
    "data_collator = DataCollatorForTokenClassification(tokenizer)"
   ]
  },
  {
   "cell_type": "code",
   "execution_count": 38,
   "id": "1565e5ab",
   "metadata": {},
   "outputs": [],
   "source": [
    "metric = load_metric(\"seqeval\")"
   ]
  },
  {
   "cell_type": "code",
   "execution_count": 39,
   "id": "cb4e10b4",
   "metadata": {},
   "outputs": [],
   "source": [
    "import numpy as np\n",
    "\n",
    "def compute_metrics(p):\n",
    "    predictions, labels = p\n",
    "    predictions = np.argmax(predictions, axis=2)\n",
    "\n",
    "    # Remove ignored index (special tokens)\n",
    "    true_predictions = [\n",
    "        [label_list[p] for (p, l) in zip(prediction, label) if l != -100]\n",
    "        for prediction, label in zip(predictions, labels)\n",
    "    ]\n",
    "    true_labels = [\n",
    "        [label_list[l] for (p, l) in zip(prediction, label) if l != -100]\n",
    "        for prediction, label in zip(predictions, labels)\n",
    "    ]\n",
    "\n",
    "    results = metric.compute(predictions=true_predictions, references=true_labels)\n",
    "    return {\n",
    "        \"precision\": results[\"overall_precision\"],\n",
    "        \"recall\": results[\"overall_recall\"],\n",
    "        \"f1\": results[\"overall_f1\"],\n",
    "        \"accuracy\": results[\"overall_accuracy\"],\n",
    "    }"
   ]
  },
  {
   "cell_type": "code",
   "execution_count": 40,
   "id": "ff5e008a",
   "metadata": {},
   "outputs": [],
   "source": [
    "trainer = Trainer(\n",
    "    model,\n",
    "    args,\n",
    "    train_dataset=tokenized_datasets[\"train\"],\n",
    "    eval_dataset=tokenized_datasets[\"validation\"],\n",
    "    data_collator=data_collator,\n",
    "    tokenizer=tokenizer,\n",
    "    compute_metrics=compute_metrics\n",
    ")"
   ]
  },
  {
   "cell_type": "code",
   "execution_count": 41,
   "id": "21a9e18d",
   "metadata": {},
   "outputs": [
    {
     "name": "stderr",
     "output_type": "stream",
     "text": [
      "The following columns in the training set  don't have a corresponding argument in `BertForTokenClassification.forward` and have been ignored: bio_only_tags, Sentence, End, Component, MainTag, full_speech_words_proper, is_equal_tag, Order, bio_int_tags, is_equal_tag_four, Set, Name, Year, Annotator, Document, full_speech_words, Text, tags_list, SpeakerType, full_speech, Part, Speaker, Start, Date, Tag, mc_int_tags, multi_class_tags, Speech, posfull_tokens_list.\n",
      "***** Running training *****\n",
      "  Num examples = 1589\n",
      "  Num Epochs = 16\n",
      "  Instantaneous batch size per device = 16\n",
      "  Total train batch size (w. parallel, distributed & accumulation) = 16\n",
      "  Gradient Accumulation steps = 1\n",
      "  Total optimization steps = 1600\n"
     ]
    },
    {
     "data": {
      "text/html": [
       "\n",
       "    <div>\n",
       "      \n",
       "      <progress value='1600' max='1600' style='width:300px; height:20px; vertical-align: middle;'></progress>\n",
       "      [1600/1600 24:50, Epoch 16/16]\n",
       "    </div>\n",
       "    <table border=\"1\" class=\"dataframe\">\n",
       "  <thead>\n",
       "    <tr style=\"text-align: left;\">\n",
       "      <th>Epoch</th>\n",
       "      <th>Training Loss</th>\n",
       "      <th>Validation Loss</th>\n",
       "      <th>Precision</th>\n",
       "      <th>Recall</th>\n",
       "      <th>F1</th>\n",
       "      <th>Accuracy</th>\n",
       "    </tr>\n",
       "  </thead>\n",
       "  <tbody>\n",
       "    <tr>\n",
       "      <td>1</td>\n",
       "      <td>1.033100</td>\n",
       "      <td>1.012455</td>\n",
       "      <td>0.001349</td>\n",
       "      <td>0.006619</td>\n",
       "      <td>0.002241</td>\n",
       "      <td>0.541586</td>\n",
       "    </tr>\n",
       "    <tr>\n",
       "      <td>2</td>\n",
       "      <td>0.941600</td>\n",
       "      <td>0.988215</td>\n",
       "      <td>0.006400</td>\n",
       "      <td>0.020331</td>\n",
       "      <td>0.009735</td>\n",
       "      <td>0.566036</td>\n",
       "    </tr>\n",
       "    <tr>\n",
       "      <td>3</td>\n",
       "      <td>0.858400</td>\n",
       "      <td>1.012458</td>\n",
       "      <td>0.012502</td>\n",
       "      <td>0.034043</td>\n",
       "      <td>0.018288</td>\n",
       "      <td>0.569470</td>\n",
       "    </tr>\n",
       "    <tr>\n",
       "      <td>4</td>\n",
       "      <td>0.799700</td>\n",
       "      <td>1.024970</td>\n",
       "      <td>0.019659</td>\n",
       "      <td>0.053901</td>\n",
       "      <td>0.028810</td>\n",
       "      <td>0.577682</td>\n",
       "    </tr>\n",
       "    <tr>\n",
       "      <td>5</td>\n",
       "      <td>0.686700</td>\n",
       "      <td>1.041726</td>\n",
       "      <td>0.025496</td>\n",
       "      <td>0.059574</td>\n",
       "      <td>0.035709</td>\n",
       "      <td>0.578127</td>\n",
       "    </tr>\n",
       "    <tr>\n",
       "      <td>6</td>\n",
       "      <td>0.680500</td>\n",
       "      <td>1.109953</td>\n",
       "      <td>0.026946</td>\n",
       "      <td>0.072340</td>\n",
       "      <td>0.039266</td>\n",
       "      <td>0.578349</td>\n",
       "    </tr>\n",
       "    <tr>\n",
       "      <td>7</td>\n",
       "      <td>0.605300</td>\n",
       "      <td>1.113794</td>\n",
       "      <td>0.033033</td>\n",
       "      <td>0.083215</td>\n",
       "      <td>0.047293</td>\n",
       "      <td>0.579986</td>\n",
       "    </tr>\n",
       "    <tr>\n",
       "      <td>8</td>\n",
       "      <td>0.526300</td>\n",
       "      <td>1.156240</td>\n",
       "      <td>0.038612</td>\n",
       "      <td>0.093617</td>\n",
       "      <td>0.054673</td>\n",
       "      <td>0.581490</td>\n",
       "    </tr>\n",
       "    <tr>\n",
       "      <td>9</td>\n",
       "      <td>0.471200</td>\n",
       "      <td>1.218752</td>\n",
       "      <td>0.043738</td>\n",
       "      <td>0.107329</td>\n",
       "      <td>0.062149</td>\n",
       "      <td>0.579150</td>\n",
       "    </tr>\n",
       "    <tr>\n",
       "      <td>10</td>\n",
       "      <td>0.449000</td>\n",
       "      <td>1.226843</td>\n",
       "      <td>0.044816</td>\n",
       "      <td>0.119149</td>\n",
       "      <td>0.065133</td>\n",
       "      <td>0.578501</td>\n",
       "    </tr>\n",
       "    <tr>\n",
       "      <td>11</td>\n",
       "      <td>0.422400</td>\n",
       "      <td>1.310305</td>\n",
       "      <td>0.053316</td>\n",
       "      <td>0.139480</td>\n",
       "      <td>0.077144</td>\n",
       "      <td>0.577202</td>\n",
       "    </tr>\n",
       "    <tr>\n",
       "      <td>12</td>\n",
       "      <td>0.395400</td>\n",
       "      <td>1.335870</td>\n",
       "      <td>0.055707</td>\n",
       "      <td>0.145154</td>\n",
       "      <td>0.080514</td>\n",
       "      <td>0.577896</td>\n",
       "    </tr>\n",
       "    <tr>\n",
       "      <td>13</td>\n",
       "      <td>0.353100</td>\n",
       "      <td>1.380494</td>\n",
       "      <td>0.058824</td>\n",
       "      <td>0.153191</td>\n",
       "      <td>0.085006</td>\n",
       "      <td>0.578287</td>\n",
       "    </tr>\n",
       "    <tr>\n",
       "      <td>14</td>\n",
       "      <td>0.368500</td>\n",
       "      <td>1.398644</td>\n",
       "      <td>0.060485</td>\n",
       "      <td>0.157920</td>\n",
       "      <td>0.087469</td>\n",
       "      <td>0.579693</td>\n",
       "    </tr>\n",
       "    <tr>\n",
       "      <td>15</td>\n",
       "      <td>0.339300</td>\n",
       "      <td>1.399561</td>\n",
       "      <td>0.059030</td>\n",
       "      <td>0.158865</td>\n",
       "      <td>0.086077</td>\n",
       "      <td>0.579631</td>\n",
       "    </tr>\n",
       "    <tr>\n",
       "      <td>16</td>\n",
       "      <td>0.346000</td>\n",
       "      <td>1.410014</td>\n",
       "      <td>0.061451</td>\n",
       "      <td>0.159338</td>\n",
       "      <td>0.088696</td>\n",
       "      <td>0.580084</td>\n",
       "    </tr>\n",
       "  </tbody>\n",
       "</table><p>"
      ],
      "text/plain": [
       "<IPython.core.display.HTML object>"
      ]
     },
     "metadata": {},
     "output_type": "display_data"
    },
    {
     "name": "stderr",
     "output_type": "stream",
     "text": [
      "The following columns in the evaluation set  don't have a corresponding argument in `BertForTokenClassification.forward` and have been ignored: bio_only_tags, Sentence, End, Component, MainTag, full_speech_words_proper, is_equal_tag, Order, bio_int_tags, is_equal_tag_four, Set, Name, Year, Annotator, Document, full_speech_words, Text, tags_list, SpeakerType, full_speech, Part, Speaker, Start, Date, Tag, mc_int_tags, multi_class_tags, Speech, posfull_tokens_list.\n",
      "***** Running Evaluation *****\n",
      "  Num examples = 635\n",
      "  Batch size = 16\n",
      "The following columns in the evaluation set  don't have a corresponding argument in `BertForTokenClassification.forward` and have been ignored: bio_only_tags, Sentence, End, Component, MainTag, full_speech_words_proper, is_equal_tag, Order, bio_int_tags, is_equal_tag_four, Set, Name, Year, Annotator, Document, full_speech_words, Text, tags_list, SpeakerType, full_speech, Part, Speaker, Start, Date, Tag, mc_int_tags, multi_class_tags, Speech, posfull_tokens_list.\n",
      "***** Running Evaluation *****\n",
      "  Num examples = 635\n",
      "  Batch size = 16\n",
      "The following columns in the evaluation set  don't have a corresponding argument in `BertForTokenClassification.forward` and have been ignored: bio_only_tags, Sentence, End, Component, MainTag, full_speech_words_proper, is_equal_tag, Order, bio_int_tags, is_equal_tag_four, Set, Name, Year, Annotator, Document, full_speech_words, Text, tags_list, SpeakerType, full_speech, Part, Speaker, Start, Date, Tag, mc_int_tags, multi_class_tags, Speech, posfull_tokens_list.\n",
      "***** Running Evaluation *****\n",
      "  Num examples = 635\n",
      "  Batch size = 16\n",
      "The following columns in the evaluation set  don't have a corresponding argument in `BertForTokenClassification.forward` and have been ignored: bio_only_tags, Sentence, End, Component, MainTag, full_speech_words_proper, is_equal_tag, Order, bio_int_tags, is_equal_tag_four, Set, Name, Year, Annotator, Document, full_speech_words, Text, tags_list, SpeakerType, full_speech, Part, Speaker, Start, Date, Tag, mc_int_tags, multi_class_tags, Speech, posfull_tokens_list.\n",
      "***** Running Evaluation *****\n",
      "  Num examples = 635\n",
      "  Batch size = 16\n",
      "Saving model checkpoint to bert-base-uncased-finetuned-ner/checkpoint-500\n",
      "Configuration saved in bert-base-uncased-finetuned-ner/checkpoint-500/config.json\n",
      "Model weights saved in bert-base-uncased-finetuned-ner/checkpoint-500/pytorch_model.bin\n",
      "tokenizer config file saved in bert-base-uncased-finetuned-ner/checkpoint-500/tokenizer_config.json\n",
      "Special tokens file saved in bert-base-uncased-finetuned-ner/checkpoint-500/special_tokens_map.json\n",
      "The following columns in the evaluation set  don't have a corresponding argument in `BertForTokenClassification.forward` and have been ignored: bio_only_tags, Sentence, End, Component, MainTag, full_speech_words_proper, is_equal_tag, Order, bio_int_tags, is_equal_tag_four, Set, Name, Year, Annotator, Document, full_speech_words, Text, tags_list, SpeakerType, full_speech, Part, Speaker, Start, Date, Tag, mc_int_tags, multi_class_tags, Speech, posfull_tokens_list.\n",
      "***** Running Evaluation *****\n",
      "  Num examples = 635\n",
      "  Batch size = 16\n",
      "The following columns in the evaluation set  don't have a corresponding argument in `BertForTokenClassification.forward` and have been ignored: bio_only_tags, Sentence, End, Component, MainTag, full_speech_words_proper, is_equal_tag, Order, bio_int_tags, is_equal_tag_four, Set, Name, Year, Annotator, Document, full_speech_words, Text, tags_list, SpeakerType, full_speech, Part, Speaker, Start, Date, Tag, mc_int_tags, multi_class_tags, Speech, posfull_tokens_list.\n",
      "***** Running Evaluation *****\n",
      "  Num examples = 635\n",
      "  Batch size = 16\n",
      "The following columns in the evaluation set  don't have a corresponding argument in `BertForTokenClassification.forward` and have been ignored: bio_only_tags, Sentence, End, Component, MainTag, full_speech_words_proper, is_equal_tag, Order, bio_int_tags, is_equal_tag_four, Set, Name, Year, Annotator, Document, full_speech_words, Text, tags_list, SpeakerType, full_speech, Part, Speaker, Start, Date, Tag, mc_int_tags, multi_class_tags, Speech, posfull_tokens_list.\n",
      "***** Running Evaluation *****\n",
      "  Num examples = 635\n",
      "  Batch size = 16\n",
      "The following columns in the evaluation set  don't have a corresponding argument in `BertForTokenClassification.forward` and have been ignored: bio_only_tags, Sentence, End, Component, MainTag, full_speech_words_proper, is_equal_tag, Order, bio_int_tags, is_equal_tag_four, Set, Name, Year, Annotator, Document, full_speech_words, Text, tags_list, SpeakerType, full_speech, Part, Speaker, Start, Date, Tag, mc_int_tags, multi_class_tags, Speech, posfull_tokens_list.\n",
      "***** Running Evaluation *****\n",
      "  Num examples = 635\n",
      "  Batch size = 16\n",
      "The following columns in the evaluation set  don't have a corresponding argument in `BertForTokenClassification.forward` and have been ignored: bio_only_tags, Sentence, End, Component, MainTag, full_speech_words_proper, is_equal_tag, Order, bio_int_tags, is_equal_tag_four, Set, Name, Year, Annotator, Document, full_speech_words, Text, tags_list, SpeakerType, full_speech, Part, Speaker, Start, Date, Tag, mc_int_tags, multi_class_tags, Speech, posfull_tokens_list.\n",
      "***** Running Evaluation *****\n",
      "  Num examples = 635\n",
      "  Batch size = 16\n",
      "Saving model checkpoint to bert-base-uncased-finetuned-ner/checkpoint-1000\n",
      "Configuration saved in bert-base-uncased-finetuned-ner/checkpoint-1000/config.json\n",
      "Model weights saved in bert-base-uncased-finetuned-ner/checkpoint-1000/pytorch_model.bin\n",
      "tokenizer config file saved in bert-base-uncased-finetuned-ner/checkpoint-1000/tokenizer_config.json\n",
      "Special tokens file saved in bert-base-uncased-finetuned-ner/checkpoint-1000/special_tokens_map.json\n",
      "The following columns in the evaluation set  don't have a corresponding argument in `BertForTokenClassification.forward` and have been ignored: bio_only_tags, Sentence, End, Component, MainTag, full_speech_words_proper, is_equal_tag, Order, bio_int_tags, is_equal_tag_four, Set, Name, Year, Annotator, Document, full_speech_words, Text, tags_list, SpeakerType, full_speech, Part, Speaker, Start, Date, Tag, mc_int_tags, multi_class_tags, Speech, posfull_tokens_list.\n",
      "***** Running Evaluation *****\n",
      "  Num examples = 635\n",
      "  Batch size = 16\n",
      "The following columns in the evaluation set  don't have a corresponding argument in `BertForTokenClassification.forward` and have been ignored: bio_only_tags, Sentence, End, Component, MainTag, full_speech_words_proper, is_equal_tag, Order, bio_int_tags, is_equal_tag_four, Set, Name, Year, Annotator, Document, full_speech_words, Text, tags_list, SpeakerType, full_speech, Part, Speaker, Start, Date, Tag, mc_int_tags, multi_class_tags, Speech, posfull_tokens_list.\n",
      "***** Running Evaluation *****\n",
      "  Num examples = 635\n",
      "  Batch size = 16\n",
      "The following columns in the evaluation set  don't have a corresponding argument in `BertForTokenClassification.forward` and have been ignored: bio_only_tags, Sentence, End, Component, MainTag, full_speech_words_proper, is_equal_tag, Order, bio_int_tags, is_equal_tag_four, Set, Name, Year, Annotator, Document, full_speech_words, Text, tags_list, SpeakerType, full_speech, Part, Speaker, Start, Date, Tag, mc_int_tags, multi_class_tags, Speech, posfull_tokens_list.\n",
      "***** Running Evaluation *****\n",
      "  Num examples = 635\n",
      "  Batch size = 16\n",
      "The following columns in the evaluation set  don't have a corresponding argument in `BertForTokenClassification.forward` and have been ignored: bio_only_tags, Sentence, End, Component, MainTag, full_speech_words_proper, is_equal_tag, Order, bio_int_tags, is_equal_tag_four, Set, Name, Year, Annotator, Document, full_speech_words, Text, tags_list, SpeakerType, full_speech, Part, Speaker, Start, Date, Tag, mc_int_tags, multi_class_tags, Speech, posfull_tokens_list.\n",
      "***** Running Evaluation *****\n",
      "  Num examples = 635\n",
      "  Batch size = 16\n",
      "The following columns in the evaluation set  don't have a corresponding argument in `BertForTokenClassification.forward` and have been ignored: bio_only_tags, Sentence, End, Component, MainTag, full_speech_words_proper, is_equal_tag, Order, bio_int_tags, is_equal_tag_four, Set, Name, Year, Annotator, Document, full_speech_words, Text, tags_list, SpeakerType, full_speech, Part, Speaker, Start, Date, Tag, mc_int_tags, multi_class_tags, Speech, posfull_tokens_list.\n",
      "***** Running Evaluation *****\n",
      "  Num examples = 635\n",
      "  Batch size = 16\n",
      "Saving model checkpoint to bert-base-uncased-finetuned-ner/checkpoint-1500\n",
      "Configuration saved in bert-base-uncased-finetuned-ner/checkpoint-1500/config.json\n",
      "Model weights saved in bert-base-uncased-finetuned-ner/checkpoint-1500/pytorch_model.bin\n",
      "tokenizer config file saved in bert-base-uncased-finetuned-ner/checkpoint-1500/tokenizer_config.json\n",
      "Special tokens file saved in bert-base-uncased-finetuned-ner/checkpoint-1500/special_tokens_map.json\n",
      "The following columns in the evaluation set  don't have a corresponding argument in `BertForTokenClassification.forward` and have been ignored: bio_only_tags, Sentence, End, Component, MainTag, full_speech_words_proper, is_equal_tag, Order, bio_int_tags, is_equal_tag_four, Set, Name, Year, Annotator, Document, full_speech_words, Text, tags_list, SpeakerType, full_speech, Part, Speaker, Start, Date, Tag, mc_int_tags, multi_class_tags, Speech, posfull_tokens_list.\n",
      "***** Running Evaluation *****\n",
      "  Num examples = 635\n",
      "  Batch size = 16\n",
      "The following columns in the evaluation set  don't have a corresponding argument in `BertForTokenClassification.forward` and have been ignored: bio_only_tags, Sentence, End, Component, MainTag, full_speech_words_proper, is_equal_tag, Order, bio_int_tags, is_equal_tag_four, Set, Name, Year, Annotator, Document, full_speech_words, Text, tags_list, SpeakerType, full_speech, Part, Speaker, Start, Date, Tag, mc_int_tags, multi_class_tags, Speech, posfull_tokens_list.\n",
      "***** Running Evaluation *****\n",
      "  Num examples = 635\n",
      "  Batch size = 16\n",
      "\n",
      "\n",
      "Training completed. Do not forget to share your model on huggingface.co/models =)\n",
      "\n",
      "\n"
     ]
    },
    {
     "data": {
      "text/plain": [
       "TrainOutput(global_step=1600, training_loss=0.5885454013943672, metrics={'train_runtime': 1491.405, 'train_samples_per_second': 17.047, 'train_steps_per_second': 1.073, 'total_flos': 5988526788708360.0, 'train_loss': 0.5885454013943672, 'epoch': 16.0})"
      ]
     },
     "execution_count": 41,
     "metadata": {},
     "output_type": "execute_result"
    }
   ],
   "source": [
    "trainer.train()"
   ]
  },
  {
   "cell_type": "code",
   "execution_count": 42,
   "id": "063edc75",
   "metadata": {},
   "outputs": [
    {
     "name": "stderr",
     "output_type": "stream",
     "text": [
      "The following columns in the evaluation set  don't have a corresponding argument in `BertForTokenClassification.forward` and have been ignored: bio_only_tags, Sentence, End, Component, MainTag, full_speech_words_proper, is_equal_tag, Order, bio_int_tags, is_equal_tag_four, Set, Name, Year, Annotator, Document, full_speech_words, Text, tags_list, SpeakerType, full_speech, Part, Speaker, Start, Date, Tag, mc_int_tags, multi_class_tags, Speech, posfull_tokens_list.\n",
      "***** Running Evaluation *****\n",
      "  Num examples = 635\n",
      "  Batch size = 16\n"
     ]
    },
    {
     "data": {
      "text/html": [
       "\n",
       "    <div>\n",
       "      \n",
       "      <progress value='193' max='40' style='width:300px; height:20px; vertical-align: middle;'></progress>\n",
       "      [40/40 02:30]\n",
       "    </div>\n",
       "    "
      ],
      "text/plain": [
       "<IPython.core.display.HTML object>"
      ]
     },
     "metadata": {},
     "output_type": "display_data"
    },
    {
     "data": {
      "text/plain": [
       "{'eval_loss': 1.4100143909454346,\n",
       " 'eval_precision': 0.061451495258935084,\n",
       " 'eval_recall': 0.15933806146572105,\n",
       " 'eval_f1': 0.08869588103697855,\n",
       " 'eval_accuracy': 0.5800843461394737,\n",
       " 'eval_runtime': 13.7088,\n",
       " 'eval_samples_per_second': 46.321,\n",
       " 'eval_steps_per_second': 2.918,\n",
       " 'epoch': 16.0}"
      ]
     },
     "execution_count": 42,
     "metadata": {},
     "output_type": "execute_result"
    }
   ],
   "source": [
    "trainer.evaluate()"
   ]
  },
  {
   "cell_type": "code",
   "execution_count": 43,
   "id": "016ba94d",
   "metadata": {},
   "outputs": [
    {
     "name": "stderr",
     "output_type": "stream",
     "text": [
      "The following columns in the test set  don't have a corresponding argument in `BertForTokenClassification.forward` and have been ignored: bio_only_tags, Sentence, End, Component, MainTag, full_speech_words_proper, is_equal_tag, Order, bio_int_tags, is_equal_tag_four, Set, Name, Year, Annotator, Document, full_speech_words, Text, tags_list, SpeakerType, full_speech, Part, Speaker, Start, Date, Tag, mc_int_tags, multi_class_tags, Speech, posfull_tokens_list.\n",
      "***** Running Prediction *****\n",
      "  Num examples = 847\n",
      "  Batch size = 16\n"
     ]
    },
    {
     "data": {
      "text/plain": [
       "{'CL': {'precision': 0.07496095783446122,\n",
       "  'recall': 0.18860510805500982,\n",
       "  'f1': 0.10728254796051405,\n",
       "  'number': 1527},\n",
       " 'PREM': {'precision': 0.04632152588555858,\n",
       "  'recall': 0.10310841546626232,\n",
       "  'f1': 0.06392479435957697,\n",
       "  'number': 1319},\n",
       " 'overall_precision': 0.06255532605488345,\n",
       " 'overall_recall': 0.14898102600140548,\n",
       " 'overall_f1': 0.08811305070656693,\n",
       " 'overall_accuracy': 0.589886179801248}"
      ]
     },
     "execution_count": 43,
     "metadata": {},
     "output_type": "execute_result"
    }
   ],
   "source": [
    "predictions, labels, _ = trainer.predict(tokenized_datasets[\"test\"])\n",
    "predictions = np.argmax(predictions, axis=2)\n",
    "\n",
    "# Remove ignored index (special tokens)\n",
    "true_predictions = [\n",
    "    [label_list[p] for (p, l) in zip(prediction, label) if l != -100]\n",
    "    for prediction, label in zip(predictions, labels)\n",
    "]\n",
    "true_labels = [\n",
    "    [label_list[l] for (p, l) in zip(prediction, label) if l != -100]\n",
    "    for prediction, label in zip(predictions, labels)\n",
    "]\n",
    "\n",
    "results = metric.compute(predictions=true_predictions, references=true_labels)\n",
    "results"
   ]
  },
  {
   "cell_type": "code",
   "execution_count": null,
   "id": "7cc67782",
   "metadata": {},
   "outputs": [],
   "source": [
    "# task: try to do only with the BIO. then see the results."
   ]
  },
  {
   "cell_type": "code",
   "execution_count": 44,
   "id": "9ceccf2a",
   "metadata": {
    "scrolled": true
   },
   "outputs": [
    {
     "name": "stderr",
     "output_type": "stream",
     "text": [
      "The following columns in the test set  don't have a corresponding argument in `BertForTokenClassification.forward` and have been ignored: bio_only_tags, Sentence, End, Component, MainTag, full_speech_words_proper, is_equal_tag, Order, bio_int_tags, is_equal_tag_four, Set, Name, Year, Annotator, Document, full_speech_words, Text, tags_list, SpeakerType, full_speech, Part, Speaker, Start, Date, Tag, mc_int_tags, multi_class_tags, Speech, posfull_tokens_list.\n",
      "***** Running Prediction *****\n",
      "  Num examples = 1589\n",
      "  Batch size = 16\n"
     ]
    },
    {
     "data": {
      "text/plain": [
       "{'CL': {'precision': 0.27605697490391135,\n",
       "  'recall': 0.48606687898089174,\n",
       "  'f1': 0.3521268925739005,\n",
       "  'number': 2512},\n",
       " 'PREM': {'precision': 0.2423076923076923,\n",
       "  'recall': 0.37630662020905925,\n",
       "  'f1': 0.29479430688243324,\n",
       "  'number': 2009},\n",
       " 'overall_precision': 0.2620973087630916,\n",
       " 'overall_recall': 0.43729263437292637,\n",
       " 'overall_f1': 0.32775198938992045,\n",
       " 'overall_accuracy': 0.9152378999179656}"
      ]
     },
     "execution_count": 44,
     "metadata": {},
     "output_type": "execute_result"
    }
   ],
   "source": [
    "predictions, labels, _ = trainer.predict(tokenized_datasets[\"train\"])\n",
    "predictions = np.argmax(predictions, axis=2)\n",
    "\n",
    "# Remove ignored index (special tokens)\n",
    "true_predictions = [\n",
    "    [label_list[p] for (p, l) in zip(prediction, label) if l != -100]\n",
    "    for prediction, label in zip(predictions, labels)\n",
    "]\n",
    "true_labels = [\n",
    "    [label_list[l] for (p, l) in zip(prediction, label) if l != -100]\n",
    "    for prediction, label in zip(predictions, labels)\n",
    "]\n",
    "\n",
    "results_train = metric.compute(predictions=true_predictions, references=true_labels)\n",
    "results_train"
   ]
  },
  {
   "cell_type": "code",
   "execution_count": null,
   "id": "984f6cd3",
   "metadata": {},
   "outputs": [],
   "source": []
  },
  {
   "cell_type": "code",
   "execution_count": null,
   "id": "59fff6c6",
   "metadata": {},
   "outputs": [],
   "source": []
  },
  {
   "cell_type": "code",
   "execution_count": null,
   "id": "f6074fa1",
   "metadata": {},
   "outputs": [],
   "source": []
  }
 ],
 "metadata": {
  "kernelspec": {
   "display_name": "Python 3 (ipykernel)",
   "language": "python",
   "name": "python3"
  },
  "language_info": {
   "codemirror_mode": {
    "name": "ipython",
    "version": 3
   },
   "file_extension": ".py",
   "mimetype": "text/x-python",
   "name": "python",
   "nbconvert_exporter": "python",
   "pygments_lexer": "ipython3",
   "version": "3.8.12"
  }
 },
 "nbformat": 4,
 "nbformat_minor": 5
}
